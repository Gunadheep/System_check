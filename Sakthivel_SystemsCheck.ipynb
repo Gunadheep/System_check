{
 "cells": [
  {
   "cell_type": "markdown",
   "id": "db1ac487",
   "metadata": {},
   "source": [
    "# Heading"
   ]
  },
  {
   "cell_type": "markdown",
   "id": "2ad633e9",
   "metadata": {},
   "source": [
    "### H3 Heading"
   ]
  },
  {
   "cell_type": "markdown",
   "id": "3808a642",
   "metadata": {},
   "source": [
    "**Computational Analysis for Decision Making**: Understand how to use computational analysis methods to inform strategic decision-making processes.\n",
    "\n",
    "**Effective Communication of Data Processes**: Learn how to communicate complex computational and analytic data processes to various stakeholders, including users and decision-makers.\n",
    "\n",
    "**Cloud-Based Data Management with ETL Process**: Gain skills in managing and sampling from cloud-based datasets using *Extract, Transform, Load (ETL) processes*."
   ]
  },
  {
   "cell_type": "code",
   "execution_count": 1,
   "id": "e857edd5",
   "metadata": {},
   "outputs": [
    {
     "name": "stdout",
     "output_type": "stream",
     "text": [
      "36\n"
     ]
    }
   ],
   "source": [
    "# variable assignment\n",
    "x=36\n",
    "print(x)"
   ]
  },
  {
   "cell_type": "code",
   "execution_count": 2,
   "id": "4534591e",
   "metadata": {},
   "outputs": [
    {
     "name": "stdout",
     "output_type": "stream",
     "text": [
      "100\n",
      "marks\n",
      "for\n",
      "all\n"
     ]
    }
   ],
   "source": [
    "#for loop\n",
    "for i in [100,\"marks\",\"for\",\"all\"]:\n",
    "    print(i)"
   ]
  },
  {
   "cell_type": "code",
   "execution_count": 3,
   "id": "7f8b3892",
   "metadata": {},
   "outputs": [],
   "source": [
    "# a function with a print statement\n",
    "y=\"Gunadheep\"\n",
    "def whats_up(y):\n",
    "    print(\"what's up \"+ y)"
   ]
  },
  {
   "cell_type": "code",
   "execution_count": 4,
   "id": "28485143",
   "metadata": {},
   "outputs": [
    {
     "name": "stdout",
     "output_type": "stream",
     "text": [
      "what's up Gunadheep\n"
     ]
    }
   ],
   "source": [
    "whats_up(y)"
   ]
  },
  {
   "cell_type": "code",
   "execution_count": 5,
   "id": "03a65c81",
   "metadata": {},
   "outputs": [],
   "source": [
    "# a function with a return statement\n",
    "y=\"Gunadheep\"\n",
    "def whats_up_return(y):\n",
    "    return \"what's up \"+ y"
   ]
  },
  {
   "cell_type": "code",
   "execution_count": 6,
   "id": "729e7ade",
   "metadata": {},
   "outputs": [
    {
     "data": {
      "text/plain": [
       "\"what's up Gunadheep\""
      ]
     },
     "execution_count": 6,
     "metadata": {},
     "output_type": "execute_result"
    }
   ],
   "source": [
    "whats_up_return(y)"
   ]
  },
  {
   "cell_type": "code",
   "execution_count": null,
   "id": "d2c39ccd",
   "metadata": {},
   "outputs": [],
   "source": []
  }
 ],
 "metadata": {
  "kernelspec": {
   "display_name": "Python 3 (ipykernel)",
   "language": "python",
   "name": "python3"
  },
  "language_info": {
   "codemirror_mode": {
    "name": "ipython",
    "version": 3
   },
   "file_extension": ".py",
   "mimetype": "text/x-python",
   "name": "python",
   "nbconvert_exporter": "python",
   "pygments_lexer": "ipython3",
   "version": "3.10.13"
  }
 },
 "nbformat": 4,
 "nbformat_minor": 5
}
